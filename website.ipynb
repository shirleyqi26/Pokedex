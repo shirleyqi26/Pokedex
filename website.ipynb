{
  "nbformat": 4,
  "nbformat_minor": 0,
  "metadata": {
    "colab": {
      "name": "website.ipynb",
      "provenance": []
    },
    "kernelspec": {
      "name": "python3",
      "display_name": "Python 3"
    },
    "language_info": {
      "name": "python"
    },
    "accelerator": "GPU"
  },
  "cells": [
    {
      "cell_type": "markdown",
      "metadata": {
        "id": "Px7PxjBYGn5e"
      },
      "source": [
        "Website Code\n",
        "\n",
        "How to use:\n",
        "\n",
        "\n",
        "1.   Run the two lines of code below to install flask-ngrok and clone the contents from the GitHub repository\n",
        "2.   Run the python code, allow it to download and load the model state that was saved during training/testing in pokemon.ipynb.\n",
        "3. As the code is running, two links will pop up below its cell, click on the 2nd one (ending with ngrok.io):\n",
        "4. Congratulations! You are now running the Pokedex. \n",
        "\n",
        "Note: Press your browser's back button to use the Pokedex again after a prediction!\n",
        "\n",
        "Another Note: The website script can also be found in our private repository for your perusal (websiteScript.py)\n",
        "\n"
      ]
    },
    {
      "cell_type": "code",
      "metadata": {
        "id": "fDDSKb93GEGP"
      },
      "source": [
        "!pip install flask-ngrok"
      ],
      "execution_count": null,
      "outputs": []
    },
    {
      "cell_type": "code",
      "metadata": {
        "id": "dE8E-gobGLUN"
      },
      "source": [
        "!git clone https://github.com/AReiter13/websitestuff"
      ],
      "execution_count": null,
      "outputs": []
    },
    {
      "cell_type": "code",
      "metadata": {
        "id": "831AwoZCGOH4"
      },
      "source": [
        "!python 'websitestuff/websiteScript.py'"
      ],
      "execution_count": null,
      "outputs": []
    }
  ]
}