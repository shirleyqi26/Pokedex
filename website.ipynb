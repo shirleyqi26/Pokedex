{
  "nbformat": 4,
  "nbformat_minor": 0,
  "metadata": {
    "colab": {
      "name": "website.ipynb",
      "provenance": []
    },
    "kernelspec": {
      "name": "python3",
      "display_name": "Python 3"
    },
    "language_info": {
      "name": "python"
    },
    "accelerator": "GPU"
  },
  "cells": [
    {
      "cell_type": "markdown",
      "metadata": {
        "id": "Px7PxjBYGn5e"
      },
      "source": [
        "Website Code\n",
        "\n",
        "How to use:\n",
        "\n",
        "\n",
        "1.   Run the two lines of code below to install flask-ngrok and clone the contents from the GitHub repository\n",
        "2.   Run the python code, allow it to download and load the model state.\n",
        "3. As the code is running, two links will pop up below its cell, click on the 2nd one (ending with ngrok.io):\n",
        "4. Congratulations! You are now running the Pokedex. \n",
        "\n",
        "Note: Press your browser's back button to use the Pokedex again after a prediction!\n",
        "\n",
        "Another Note: The website script can also be found in our private repository for your perusal (websiteScript.py)\n",
        "\n"
      ]
    },
    {
      "cell_type": "code",
      "metadata": {
        "id": "fDDSKb93GEGP",
        "colab": {
          "base_uri": "https://localhost:8080/"
        },
        "outputId": "a966c851-bdf9-430c-da45-eb88e679e03c"
      },
      "source": [
        "!pip install flask-ngrok"
      ],
      "execution_count": 6,
      "outputs": [
        {
          "output_type": "stream",
          "text": [
            "Requirement already satisfied: flask-ngrok in /usr/local/lib/python3.7/dist-packages (0.0.25)\n",
            "Requirement already satisfied: requests in /usr/local/lib/python3.7/dist-packages (from flask-ngrok) (2.23.0)\n",
            "Requirement already satisfied: Flask>=0.8 in /usr/local/lib/python3.7/dist-packages (from flask-ngrok) (1.1.2)\n",
            "Requirement already satisfied: certifi>=2017.4.17 in /usr/local/lib/python3.7/dist-packages (from requests->flask-ngrok) (2020.12.5)\n",
            "Requirement already satisfied: idna<3,>=2.5 in /usr/local/lib/python3.7/dist-packages (from requests->flask-ngrok) (2.10)\n",
            "Requirement already satisfied: urllib3!=1.25.0,!=1.25.1,<1.26,>=1.21.1 in /usr/local/lib/python3.7/dist-packages (from requests->flask-ngrok) (1.24.3)\n",
            "Requirement already satisfied: chardet<4,>=3.0.2 in /usr/local/lib/python3.7/dist-packages (from requests->flask-ngrok) (3.0.4)\n",
            "Requirement already satisfied: Jinja2>=2.10.1 in /usr/local/lib/python3.7/dist-packages (from Flask>=0.8->flask-ngrok) (2.11.3)\n",
            "Requirement already satisfied: Werkzeug>=0.15 in /usr/local/lib/python3.7/dist-packages (from Flask>=0.8->flask-ngrok) (2.0.0)\n",
            "Requirement already satisfied: itsdangerous>=0.24 in /usr/local/lib/python3.7/dist-packages (from Flask>=0.8->flask-ngrok) (2.0.0)\n",
            "Requirement already satisfied: click>=5.1 in /usr/local/lib/python3.7/dist-packages (from Flask>=0.8->flask-ngrok) (8.0.0)\n",
            "Requirement already satisfied: MarkupSafe>=0.23 in /usr/local/lib/python3.7/dist-packages (from Jinja2>=2.10.1->Flask>=0.8->flask-ngrok) (2.0.0)\n"
          ],
          "name": "stdout"
        }
      ]
    },
    {
      "cell_type": "code",
      "metadata": {
        "id": "dE8E-gobGLUN",
        "colab": {
          "base_uri": "https://localhost:8080/"
        },
        "outputId": "e5416691-e976-47c3-f408-79dce2ce1128"
      },
      "source": [
        "!git clone https://github.com/AReiter13/websitestuff"
      ],
      "execution_count": 3,
      "outputs": [
        {
          "output_type": "stream",
          "text": [
            "fatal: destination path 'websitestuff' already exists and is not an empty directory.\n"
          ],
          "name": "stdout"
        }
      ]
    },
    {
      "cell_type": "code",
      "metadata": {
        "colab": {
          "base_uri": "https://localhost:8080/"
        },
        "id": "831AwoZCGOH4",
        "outputId": "32c38a24-2649-4bd0-d1a9-03d1dd9a5e1a"
      },
      "source": [
        "!python 'websitestuff/websiteScript.py'"
      ],
      "execution_count": 7,
      "outputs": [
        {
          "output_type": "stream",
          "text": [
            "Downloading: \"https://download.pytorch.org/models/resnet50-19c8e357.pth\" to /root/.cache/torch/hub/checkpoints/resnet50-19c8e357.pth\n",
            "100% 97.8M/97.8M [00:03<00:00, 29.8MB/s]\n",
            " * Serving Flask app \"websiteScript\" (lazy loading)\n",
            " * Environment: production\n",
            "\u001b[31m   WARNING: This is a development server. Do not use it in a production deployment.\u001b[0m\n",
            "\u001b[2m   Use a production WSGI server instead.\u001b[0m\n",
            " * Debug mode: off\n",
            " * Running on http://127.0.0.1:5000/ (Press CTRL+C to quit)\n",
            " * Running on http://b439a3c0d1ba.ngrok.io\n",
            " * Traffic stats available on http://127.0.0.1:4040\n",
            "127.0.0.1 - - [16/May/2021 21:32:47] \"GET / HTTP/1.1\" 200 -\n",
            "127.0.0.1 - - [16/May/2021 21:32:47] \"\u001b[33mGET /favicon.ico HTTP/1.1\u001b[0m\" 404 -\n",
            "127.0.0.1 - - [16/May/2021 21:32:48] \"GET / HTTP/1.1\" 200 -\n",
            "127.0.0.1 - - [16/May/2021 21:32:52] \"\u001b[32mPOST / HTTP/1.1\u001b[0m\" 302 -\n",
            "127.0.0.1 - - [16/May/2021 21:32:53] \"GET /primeape/?percent1=4.263401508331299&percent2=4.113320350646973&percent3=3.997446298599243&percent4=3.830281972885132&percent5=3.7589316368103027&number1=57&number2=58&number3=75&number4=56&number5=16 HTTP/1.1\" 200 -\n",
            "127.0.0.1 - - [16/May/2021 21:33:47] \"GET / HTTP/1.1\" 200 -\n",
            "127.0.0.1 - - [16/May/2021 21:33:53] \"\u001b[32mPOST / HTTP/1.1\u001b[0m\" 302 -\n",
            "127.0.0.1 - - [16/May/2021 21:33:53] \"GET /dugtrio/?percent1=6.052515983581543&percent2=5.357470989227295&percent3=3.691638708114624&percent4=3.684804916381836&percent5=3.2581822872161865&number1=51&number2=56&number3=44&number4=57&number5=37 HTTP/1.1\" 200 -\n",
            "127.0.0.1 - - [16/May/2021 21:34:21] \"GET / HTTP/1.1\" 200 -\n",
            "127.0.0.1 - - [16/May/2021 21:34:25] \"\u001b[32mPOST / HTTP/1.1\u001b[0m\" 302 -\n",
            "127.0.0.1 - - [16/May/2021 21:34:25] \"GET /mankey/?percent1=12.05826473236084&percent2=4.323550701141357&percent3=4.089664936065674&percent4=4.049385070800781&percent5=3.590977668762207&number1=56&number2=72&number3=53&number4=64&number5=57 HTTP/1.1\" 200 -\n",
            "127.0.0.1 - - [16/May/2021 21:35:00] \"GET / HTTP/1.1\" 200 -\n",
            "127.0.0.1 - - [16/May/2021 21:35:04] \"\u001b[32mPOST / HTTP/1.1\u001b[0m\" 302 -\n",
            "127.0.0.1 - - [16/May/2021 21:35:04] \"GET /persian/?percent1=10.377492904663086&percent2=5.78190279006958&percent3=4.574082851409912&percent4=3.9711389541625977&percent5=2.9160850048065186&number1=53&number2=25&number3=52&number4=56&number5=26 HTTP/1.1\" 200 -\n",
            "127.0.0.1 - - [16/May/2021 21:35:31] \"GET / HTTP/1.1\" 200 -\n",
            "127.0.0.1 - - [16/May/2021 21:35:35] \"\u001b[32mPOST / HTTP/1.1\u001b[0m\" 302 -\n",
            "127.0.0.1 - - [16/May/2021 21:35:35] \"GET /raichu/?percent1=8.246438980102539&percent2=7.466480255126953&percent3=4.5750837326049805&percent4=3.2844574451446533&percent5=3.128725528717041&number1=26&number2=25&number3=37&number4=51&number5=35 HTTP/1.1\" 200 -\n",
            "127.0.0.1 - - [16/May/2021 21:36:04] \"GET / HTTP/1.1\" 200 -\n",
            "127.0.0.1 - - [16/May/2021 21:36:07] \"\u001b[32mPOST / HTTP/1.1\u001b[0m\" 302 -\n",
            "127.0.0.1 - - [16/May/2021 21:36:07] \"GET /pikachu/?percent1=8.293876647949219&percent2=7.177796840667725&percent3=4.611246585845947&percent4=3.809171438217163&percent5=3.2499136924743652&number1=25&number2=26&number3=37&number4=53&number5=58 HTTP/1.1\" 200 -\n",
            "127.0.0.1 - - [16/May/2021 21:36:38] \"GET / HTTP/1.1\" 200 -\n",
            "127.0.0.1 - - [16/May/2021 21:36:41] \"\u001b[32mPOST / HTTP/1.1\u001b[0m\" 302 -\n",
            "127.0.0.1 - - [16/May/2021 21:36:41] \"GET /squirtle/?percent1=12.142219543457031&percent2=6.772248268127441&percent3=5.053235054016113&percent4=4.461935997009277&percent5=3.995812177658081&number1=7&number2=66&number3=9&number4=27&number5=14 HTTP/1.1\" 200 -\n",
            "127.0.0.1 - - [16/May/2021 21:37:13] \"GET / HTTP/1.1\" 200 -\n",
            "127.0.0.1 - - [16/May/2021 21:37:15] \"\u001b[32mPOST / HTTP/1.1\u001b[0m\" 302 -\n",
            "127.0.0.1 - - [16/May/2021 21:37:16] \"GET /beedrill/?percent1=10.28305721282959&percent2=7.358994007110596&percent3=4.681318283081055&percent4=3.9194183349609375&percent5=3.9137790203094482&number1=15&number2=12&number3=49&number4=27&number5=14 HTTP/1.1\" 200 -\n",
            "127.0.0.1 - - [16/May/2021 21:37:40] \"GET / HTTP/1.1\" 200 -\n",
            "127.0.0.1 - - [16/May/2021 21:37:43] \"\u001b[32mPOST / HTTP/1.1\u001b[0m\" 302 -\n",
            "127.0.0.1 - - [16/May/2021 21:37:43] \"GET /geodude/?percent1=5.340263843536377&percent2=4.622889041900635&percent3=4.622246742248535&percent4=3.6583216190338135&percent5=3.2781639099121094&number1=74&number2=75&number3=66&number4=68&number5=51 HTTP/1.1\" 200 -\n",
            "127.0.0.1 - - [16/May/2021 21:38:36] \"GET / HTTP/1.1\" 200 -\n",
            "127.0.0.1 - - [16/May/2021 21:38:39] \"\u001b[32mPOST / HTTP/1.1\u001b[0m\" 302 -\n",
            "127.0.0.1 - - [16/May/2021 21:38:39] \"GET /butterfree/?percent1=15.056734085083008&percent2=7.637966632843018&percent3=5.240466117858887&percent4=4.943821907043457&percent5=4.360869407653809&number1=12&number2=49&number3=60&number4=48&number5=15 HTTP/1.1\" 200 -\n",
            "127.0.0.1 - - [16/May/2021 21:39:33] \"GET / HTTP/1.1\" 200 -\n",
            "127.0.0.1 - - [16/May/2021 21:39:35] \"\u001b[32mPOST / HTTP/1.1\u001b[0m\" 302 -\n",
            "127.0.0.1 - - [16/May/2021 21:39:36] \"GET /ekans/?percent1=12.213601112365723&percent2=5.970099925994873&percent3=4.684357166290283&percent4=3.321103096008301&percent5=2.691619396209717&number1=23&number2=24&number3=19&number4=10&number5=73 HTTP/1.1\" 200 -\n",
            "127.0.0.1 - - [16/May/2021 21:39:58] \"GET / HTTP/1.1\" 200 -\n",
            "127.0.0.1 - - [16/May/2021 21:40:00] \"\u001b[32mPOST / HTTP/1.1\u001b[0m\" 302 -\n",
            "127.0.0.1 - - [16/May/2021 21:40:00] \"GET /tentacruel/?percent1=10.504663467407227&percent2=4.16858434677124&percent3=3.791372776031494&percent4=3.1928131580352783&percent5=2.8594255447387695&number1=73&number2=47&number3=12&number4=45&number5=72 HTTP/1.1\" 200 -\n",
            "127.0.0.1 - - [16/May/2021 21:40:55] \"GET / HTTP/1.1\" 200 -\n",
            "127.0.0.1 - - [16/May/2021 21:40:58] \"\u001b[32mPOST / HTTP/1.1\u001b[0m\" 302 -\n",
            "127.0.0.1 - - [16/May/2021 21:40:58] \"GET /vileplume/?percent1=12.061309814453125&percent2=5.240607738494873&percent3=3.781602621078491&percent4=3.386453151702881&percent5=2.510897397994995&number1=45&number2=47&number3=3&number4=44&number5=68 HTTP/1.1\" 200 -\n",
            "127.0.0.1 - - [16/May/2021 22:12:13] \"GET / HTTP/1.1\" 200 -\n"
          ],
          "name": "stdout"
        }
      ]
    }
  ]
}